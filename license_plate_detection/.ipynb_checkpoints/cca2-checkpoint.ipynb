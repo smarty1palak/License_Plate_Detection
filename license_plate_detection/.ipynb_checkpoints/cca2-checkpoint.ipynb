{
 "cells": [
  {
   "cell_type": "code",
   "execution_count": 1,
   "metadata": {},
   "outputs": [
    {
     "name": "stdout",
     "output_type": "stream",
     "text": [
      "(720, 1280)\n"
     ]
    },
    {
     "data": {
      "text/plain": [
       "<matplotlib.figure.Figure at 0x7f34e1ad7b38>"
      ]
     },
     "metadata": {},
     "output_type": "display_data"
    }
   ],
   "source": [
    "from skimage import measure\n",
    "from skimage.measure import regionprops\n",
    "import matplotlib.pyplot as plt\n",
    "import matplotlib.patches as patches\n",
    "import localization\n"
   ]
  },
  {
   "cell_type": "code",
   "execution_count": 2,
   "metadata": {},
   "outputs": [
    {
     "data": {
      "image/png": "[encoded data removed]",
      "text/plain": [
       "<matplotlib.figure.Figure at 0x7f3521004048>"
      ]
     },
     "metadata": {},
     "output_type": "display_data"
    }
   ],
   "source": [
    "# this gets all the connected regions and groups them together\n",
    "label_image = measure.label(localization.binary_car_image)\n",
    "\n",
    "# getting the maximum width, height and minimum width and height that a license plate can be\n",
    "plate_dimensions = (0.05*label_image.shape[0], 0.15*label_image.shape[0], 0.15*label_image.shape[1], 0.4*label_image.shape[1])\n",
    "min_height, max_height, min_width, max_width = plate_dimensions\n",
    "plate_objects_cordinates = []\n",
    "plate_like_objects = []\n",
    "fig, (ax1) = plt.subplots(1)\n",
    "ax1.imshow(localization.binary_car_image, cmap=\"gray\");\n",
    "\n",
    "# regionprops creates a list of properties of all the labelled regions\n",
    "for region in regionprops(label_image):\n",
    "    if region.area < 50:\n",
    "        #if the region is so small then it's likely not a license plate\n",
    "        continue\n",
    "\n",
    "    # the bounding box coordinates\n",
    "    min_row, min_col, max_row, max_col = region.bbox\n",
    "    region_height = max_row - min_row\n",
    "    region_width = max_col - min_col\n",
    "    # ensuring that the region identified satisfies the condition of a typical license plate\n",
    "    if region_height >= min_height and region_height <= max_height and region_width >= min_width and region_width <= max_width and region_width > region_height:\n",
    "        plate_like_objects.append(localization.binary_car_image[min_row:max_row,\n",
    "                                  min_col:max_col])\n",
    "        plate_objects_cordinates.append((min_row, min_col,\n",
    "                                              max_row, max_col))\n",
    "        rectBorder = patches.Rectangle((min_col, min_row), max_col-min_col, max_row-min_row, edgecolor=\"red\", linewidth=2, fill=False)\n",
    "        ax1.add_patch(rectBorder)\n",
    "    # let's draw a red rectangle over those regions\n",
    "\n",
    "plt.show()"
   ]
  },
  {
   "cell_type": "code",
   "execution_count": null,
   "metadata": {},
   "outputs": [],
   "source": []
  },
  {
   "cell_type": "code",
   "execution_count": null,
   "metadata": {},
   "outputs": [],
   "source": []
  }
 ],
 "metadata": {
  "kernelspec": {
   "display_name": "Python 3",
   "language": "python",
   "name": "python3"
  },
  "language_info": {
   "codemirror_mode": {
    "name": "ipython",
    "version": 3
   },
   "file_extension": ".py",
   "mimetype": "text/x-python",
   "name": "python",
   "nbconvert_exporter": "python",
   "pygments_lexer": "ipython3",
   "version": "3.6.4"
  }
 },
 "nbformat": 4,
 "nbformat_minor": 2
}
