{
 "cells": [
  {
   "cell_type": "code",
   "execution_count": 1,
   "metadata": {},
   "outputs": [],
   "source": [
    "import cv2\n",
    "import numpy as np\n",
    "import sys\n",
    "import glob\n",
    "import math\n",
    "import time\n",
    "import os\n",
    "from skimage import measure\n",
    "from skimage.io import imread\n",
    "from skimage.measure import regionprops\n",
    "from skimage.filters import threshold_otsu\n",
    "import matplotlib.pyplot as plt"
   ]
  },
  {
   "cell_type": "code",
   "execution_count": 2,
   "metadata": {},
   "outputs": [
    {
     "data": {
      "text/plain": [
       "<matplotlib.image.AxesImage at 0x7f7dcded0278>"
      ]
     },
     "execution_count": 2,
     "metadata": {},
     "output_type": "execute_result"
    },
    {
     "data": {
      "image/png": "[encoded data removed]",
      "text/plain": [
       "<matplotlib.figure.Figure at 0x7f7e143fe240>"
      ]
     },
     "metadata": {},
     "output_type": "display_data"
    }
   ],
   "source": [
    "number_image = cv2.imread(\"sentence.jpg\",0)\n",
    "plt.imshow(number_image, cmap=\"gray\")"
   ]
  },
  {
   "cell_type": "code",
   "execution_count": 6,
   "metadata": {},
   "outputs": [
    {
     "data": {
      "text/plain": [
       "<matplotlib.image.AxesImage at 0x7f7dcc5b7278>"
      ]
     },
     "execution_count": 6,
     "metadata": {},
     "output_type": "execute_result"
    },
    {
     "data": {
      "image/png": "[encoded data removed]",
      "text/plain": [
       "<matplotlib.figure.Figure at 0x7f7dcde33780>"
      ]
     },
     "metadata": {},
     "output_type": "display_data"
    }
   ],
   "source": [
    "blur = cv2.GaussianBlur(number_image,(5,5),0)\n",
    "ret3,th3 = cv2.threshold(blur,0,255,cv2.THRESH_BINARY+cv2.THRESH_OTSU)\n",
    "th3 = cv2.bitwise_not(th3)\n",
    "plt.imshow(th3,cmap=\"gray\")\n"
   ]
  },
  {
   "cell_type": "code",
   "execution_count": 10,
   "metadata": {},
   "outputs": [
    {
     "name": "stdout",
     "output_type": "stream",
     "text": [
      "[0. 0. 0. ... 0. 0. 0.]\n"
     ]
    }
   ],
   "source": [
    "sum=np.sum(th3,axis=0)\n",
    "sum=sum/255\n",
    "print(sum)"
   ]
  },
  {
   "cell_type": "code",
   "execution_count": 18,
   "metadata": {},
   "outputs": [
    {
     "name": "stdout",
     "output_type": "stream",
     "text": [
      "[69, 98, 7, 6, 7, 84, 11, 4, 83, 5, 4, 13, 69]\n"
     ]
    }
   ],
   "source": [
    "l=len(sum)\n",
    "a=[]\n",
    "count=0\n",
    "for i in range(0,len(sum)-1):\n",
    "    if sum[i]==0 and sum[i+1]==0:\n",
    "        count+=1\n",
    "    else:\n",
    "        if(count!=0):\n",
    "            a.append(count)\n",
    "        count=0\n",
    "print(a)"
   ]
  },
  {
   "cell_type": "markdown",
   "metadata": {},
   "source": []
  },
  {
   "cell_type": "code",
   "execution_count": 22,
   "metadata": {},
   "outputs": [
    {
     "name": "stdout",
     "output_type": "stream",
     "text": [
      "35\n"
     ]
    }
   ],
   "source": [
    "mean=print(int(np.mean(a)))"
   ]
  },
  {
   "cell_type": "code",
   "execution_count": 28,
   "metadata": {},
   "outputs": [
    {
     "name": "stdout",
     "output_type": "stream",
     "text": [
      "[0, 218, 471, 687, 998]\n"
     ]
    }
   ],
   "source": [
    "stored=0\n",
    "position=[]\n",
    "found=0\n",
    "count=0\n",
    "appended=0\n",
    "for i in range(0,len(sum)-1):\n",
    "    if sum[i]==0 and sum[i+1]==0:\n",
    "        if(stored==0):\n",
    "            t=i\n",
    "            stored=1\n",
    "        count+=1\n",
    "    if(count>35):\n",
    "        if appended!=1:\n",
    "            position.append(t)\n",
    "            appended=1\n",
    "    if sum[i]==0 and sum[i+1]>0:\n",
    "        appended=0\n",
    "        count=0\n",
    "        stored=0\n",
    "print(position)"
   ]
  },
  {
   "cell_type": "code",
   "execution_count": 49,
   "metadata": {},
   "outputs": [
    {
     "data": {
      "text/plain": [
       "<matplotlib.image.AxesImage at 0x7f7dc562d438>"
      ]
     },
     "execution_count": 49,
     "metadata": {},
     "output_type": "execute_result"
    },
    {
     "data": {
      "image/png": "[encoded data removed]",
      "text/plain": [
       "<matplotlib.figure.Figure at 0x7f7dc569e8d0>"
      ]
     },
     "metadata": {},
     "output_type": "display_data"
    }
   ],
   "source": [
    "height = np.size(th3, 0)\n",
    "width = np.size(th3, 1)\n",
    "im=[]\n",
    "i=0\n",
    "for j in range(0,len(position)-1):\n",
    "    im.append(th3[:,position[j]:position[j+1]])\n",
    "\n",
    "plt.imshow(im[0])"
   ]
  },
  {
   "cell_type": "code",
   "execution_count": null,
   "metadata": {},
   "outputs": [],
   "source": []
  }
 ],
 "metadata": {
  "kernelspec": {
   "display_name": "Python 3",
   "language": "python",
   "name": "python3"
  },
  "language_info": {
   "codemirror_mode": {
    "name": "ipython",
    "version": 3
   },
   "file_extension": ".py",
   "mimetype": "text/x-python",
   "name": "python",
   "nbconvert_exporter": "python",
   "pygments_lexer": "ipython3",
   "version": "3.6.4"
  }
 },
 "nbformat": 4,
 "nbformat_minor": 2
}
